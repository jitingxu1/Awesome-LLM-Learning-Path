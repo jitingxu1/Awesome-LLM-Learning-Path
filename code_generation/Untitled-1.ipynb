{
 "cells": [
  {
   "cell_type": "code",
   "execution_count": 50,
   "metadata": {},
   "outputs": [],
   "source": [
    "def convert_keystrokes_to_ot(keystrokes, document):\n",
    "    ot_operations = []\n",
    "    \n",
    "    for stroke in keystrokes:\n",
    "        action, value = stroke\n",
    "        \n",
    "        if action == \"type\":\n",
    "            # Handle typing a character\n",
    "            ot_operations.append({\"type\": \"insert\", \"chars\": value})\n",
    "            if document[\"cursor\"] == 0:\n",
    "                document[\"text\"] = value + document[\"text\"]\n",
    "            else:\n",
    "                document[\"text\"] = document[\"text\"][:document[\"cursor\"]] + value + document[\"text\"][document[\"cursor\"]:]\n",
    "            document[\"cursor\"] += len(value)\n",
    "        elif action == \"backspace\" and value:\n",
    "            # Handle backspacing\n",
    "            if document[\"cursor\"] > 0:\n",
    "                num_chars_to_delete =  value # Adjust as needed\n",
    "                if value > document[\"cursor\"]:\n",
    "                    num_chars_to_delete = document[\"cursor\"]\n",
    "                deleted_chars = document[\"text\"][document[\"cursor\"] - num_chars_to_delete:document[\"cursor\"]]\n",
    "                ot_operations.append({\"type\": \"delete\", \"numChars\": num_chars_to_delete})\n",
    "                document[\"text\"] = document[\"text\"][:document[\"cursor\"] - num_chars_to_delete] + document[\"text\"][document[\"cursor\"]:]\n",
    "                document[\"cursor\"] -= num_chars_to_delete\n",
    "        elif action == \"right\" and value:\n",
    "            # Handle moving the cursor right\n",
    "            num_chars_to_move = value  # Adjust as needed\n",
    "            ot_operations.append({\"type\": \"right\", \"numChars\": num_chars_to_move})\n",
    "            document[\"cursor\"] += num_chars_to_move\n",
    "            document[\"cursor\"] = len(document[\"text\"]) - 1 if document[\"cursor\"] > len(document[\"text\"]) else len(document[\"text\"])\n",
    "        elif action == \"left\" and value:\n",
    "            # Handle moving the cursor right\n",
    "            num_chars_to_move = value  # Adjust as needed\n",
    "            ot_operations.append({\"type\": \"left\", \"numChars\": num_chars_to_move})\n",
    "            document[\"cursor\"] -= num_chars_to_move\n",
    "            document[\"cursor\"] = document[\"cursor\"] if document[\"cursor\"] > 0 else 0\n",
    "        else:\n",
    "            raise ValueError(f\"action `{action}` is not supported.\")\n",
    "    \n",
    "    return ot_operations, document\n",
    "\n"
   ]
  },
  {
   "cell_type": "code",
   "execution_count": 52,
   "metadata": {},
   "outputs": [
    {
     "name": "stdout",
     "output_type": "stream",
     "text": [
      "b\n",
      "[{'type': 'insert', 'chars': 'a'}, {'type': 'insert', 'chars': 'b'}, {'type': 'right', 'numChars': 40}, {'type': 'delete', 'numChars': 7}]\n"
     ]
    }
   ],
   "source": [
    "# Example usage:\n",
    "document = {\"text\": \"123456\", \"cursor\": 0}\n",
    "keystrokes = [(\"type\", \"a\"), (\"type\", \"b\"), (\"right\", 40), (\"backspace\", 40) ]#, (\"backspace\", True)]\n",
    "resulting_ot_operations, d = convert_keystrokes_to_ot(keystrokes, document)\n",
    "print(resulting_ot_operations)"
   ]
  },
  {
   "cell_type": "code",
   "execution_count": 53,
   "metadata": {},
   "outputs": [
    {
     "data": {
      "text/plain": [
       "{'text': '6', 'cursor': 0}"
      ]
     },
     "execution_count": 53,
     "metadata": {},
     "output_type": "execute_result"
    }
   ],
   "source": [
    "d"
   ]
  },
  {
   "cell_type": "code",
   "execution_count": null,
   "metadata": {},
   "outputs": [],
   "source": [
    "sds"
   ]
  }
 ],
 "metadata": {
  "kernelspec": {
   "display_name": "Python 3",
   "language": "python",
   "name": "python3"
  },
  "language_info": {
   "codemirror_mode": {
    "name": "ipython",
    "version": 3
   },
   "file_extension": ".py",
   "mimetype": "text/x-python",
   "name": "python",
   "nbconvert_exporter": "python",
   "pygments_lexer": "ipython3",
   "version": "3.10.11"
  },
  "orig_nbformat": 4
 },
 "nbformat": 4,
 "nbformat_minor": 2
}
