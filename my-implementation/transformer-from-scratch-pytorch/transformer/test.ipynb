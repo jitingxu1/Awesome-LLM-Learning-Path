{
 "cells": [
  {
   "cell_type": "code",
   "execution_count": null,
   "metadata": {},
   "outputs": [],
   "source": [
    "import torch\n",
    "import torch.nn as nn"
   ]
  },
  {
   "cell_type": "code",
   "execution_count": 1,
   "metadata": {},
   "outputs": [],
   "source": [
    "import torch\n",
    "import torch.nn as nn\n",
    "\n",
    "class MultiHeadAttention(nn.Module):\n",
    "    \"\"\"Multi-head attention module\"\"\"\n",
    "\n",
    "    def __init__(self, n_head: int, d_model: int, d_k: int, d_v: int):\n",
    "        super().__init__()\n",
    "\n",
    "        self.n_head = n_head # number of attention heads\n",
    "        self.d_model = d_model # dimensionality of the word embeddings and the hidden states in the model\n",
    "        self.d_k = d_k # dimensionality of the keys\n",
    "        self.d_v = d_v # dimensionality of the query\n",
    "\n",
    "        # TODO: the relatinship between n_head and d_model\n",
    "\n",
    "        # Initialize the learnable weights\n",
    "        self.weight_query = nn.Linear(d_model, n_head * d_k, bias=False)\n",
    "        self.weight_key = nn.Linear(d_model, n_head * d_k, bias=False)\n",
    "        self.weight_value = nn.Linear(d_model, n_head * d_v, bias=False)\n",
    "        self.fullly_connected_layer = nn.Linear(n_head * d_v, d_model, bias=False)\n",
    "\n",
    "    def forward(self):\n",
    "        \"\"\"forward\"\"\"\n",
    "        pass"
   ]
  },
  {
   "cell_type": "code",
   "execution_count": 2,
   "metadata": {},
   "outputs": [],
   "source": [
    "a = MultiHeadAttention(3, 512, 100, 100)"
   ]
  },
  {
   "cell_type": "code",
   "execution_count": 3,
   "metadata": {},
   "outputs": [
    {
     "name": "stdout",
     "output_type": "stream",
     "text": [
      "Parameter containing:\n",
      "tensor([[-0.0217,  0.0260,  0.0311,  ..., -0.0151,  0.0394,  0.0280],\n",
      "        [ 0.0275, -0.0315,  0.0151,  ...,  0.0346, -0.0095, -0.0304],\n",
      "        [-0.0126,  0.0048, -0.0082,  ...,  0.0361, -0.0250, -0.0022],\n",
      "        ...,\n",
      "        [-0.0134,  0.0046,  0.0031,  ...,  0.0203,  0.0289, -0.0344],\n",
      "        [-0.0264, -0.0353,  0.0085,  ...,  0.0227, -0.0328,  0.0393],\n",
      "        [-0.0132, -0.0359, -0.0376,  ..., -0.0181, -0.0138,  0.0088]],\n",
      "       requires_grad=True)\n"
     ]
    }
   ],
   "source": [
    "print(a.weight_key.weight)"
   ]
  },
  {
   "cell_type": "code",
   "execution_count": 4,
   "metadata": {},
   "outputs": [
    {
     "data": {
      "text/plain": [
       "torch.Size([300, 512])"
      ]
     },
     "execution_count": 4,
     "metadata": {},
     "output_type": "execute_result"
    }
   ],
   "source": [
    "a.weight_key.weight.shape"
   ]
  },
  {
   "cell_type": "code",
   "execution_count": null,
   "metadata": {},
   "outputs": [],
   "source": []
  }
 ],
 "metadata": {
  "kernelspec": {
   "display_name": "Python 3",
   "language": "python",
   "name": "python3"
  },
  "language_info": {
   "codemirror_mode": {
    "name": "ipython",
    "version": 3
   },
   "file_extension": ".py",
   "mimetype": "text/x-python",
   "name": "python",
   "nbconvert_exporter": "python",
   "pygments_lexer": "ipython3",
   "version": "3.10.8"
  },
  "orig_nbformat": 4
 },
 "nbformat": 4,
 "nbformat_minor": 2
}
